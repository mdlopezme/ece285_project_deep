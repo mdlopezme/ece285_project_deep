{
 "cells": [
  {
   "cell_type": "code",
   "execution_count": 1,
   "metadata": {},
   "outputs": [
    {
     "data": {
      "text/plain": [
       "<torch._C.Generator at 0x7f7d9c7e2cb0>"
      ]
     },
     "execution_count": 1,
     "metadata": {},
     "output_type": "execute_result"
    }
   ],
   "source": [
    "import torch.nn as nn\n",
    "import torch\n",
    "import rawpy\n",
    "import numpy as np\n",
    "from torch.utils.data import DataLoader\n",
    "from utils.datasets import LabeledDataset\n",
    "from utils.preprocess import adjust_black_level\n",
    "\n",
    "import torchvision.transforms as transforms\n",
    "\n",
    "import ignite.distributed as idist\n",
    "from ignite.engine import Engine, Events\n",
    "from ignite.contrib.handlers import ProgressBar\n",
    "from ignite.metrics import FID, InceptionScore, RunningAverage\n",
    "\n",
    "from torch.profiler import profile, record_function, ProfilerActivity\n",
    "\n",
    "from torchinfo import summary\n",
    "\n",
    "torch.manual_seed(9706507364633013713)"
   ]
  },
  {
   "cell_type": "code",
   "execution_count": 2,
   "metadata": {},
   "outputs": [
    {
     "name": "stdout",
     "output_type": "stream",
     "text": [
      "Creating buffer for 233 images\n"
     ]
    },
    {
     "name": "stderr",
     "output_type": "stream",
     "text": [
      "2023-06-13 21:14:04,756 ignite.distributed.auto.auto_dataloader INFO: Use data loader kwargs for dataset '<utils.datasets.Labe': \n",
      "\t{'batch_size': 8, 'num_workers': 8, 'shuffle': True, 'drop_last': True, 'prefetch_factor': 1, 'pin_memory': True}\n"
     ]
    },
    {
     "name": "stdout",
     "output_type": "stream",
     "text": [
      "torch.Size([4, 512, 512])\n",
      "torch.Size([3, 1024, 1024])\n"
     ]
    }
   ],
   "source": [
    "root_dir = \"dataset\"\n",
    "sony_csv_files = [\"dataset/Sony_train_list.txt\"]\n",
    "fuji_csv_files =  [\"dataset/Fuji_train_list.txt\"]\n",
    "\n",
    "batch_size = 8\n",
    "input_size = 512\n",
    "\n",
    "pre_crop_transform = transforms.Compose([\n",
    "    transforms.ToTensor()\n",
    "])\n",
    "\n",
    "sony_dataset = LabeledDataset(root_dir, *sony_csv_files, training=True, save_gpu_memory=True, transform=pre_crop_transform)\n",
    "sony_dataloader = idist.auto_dataloader(sony_dataset, batch_size=batch_size, num_workers=8, shuffle=True, drop_last=True, prefetch_factor=1)\n",
    "print(sony_dataset[0][0].shape)\n",
    "print(sony_dataset[0][1].shape)"
   ]
  },
  {
   "cell_type": "code",
   "execution_count": 3,
   "metadata": {},
   "outputs": [],
   "source": [
    "sony_dataset.prime_buffer()"
   ]
  },
  {
   "cell_type": "code",
   "execution_count": 4,
   "metadata": {},
   "outputs": [
    {
     "name": "stderr",
     "output_type": "stream",
     "text": [
      "2023-06-13 21:15:13,312 ignite.distributed.auto.auto_model INFO: Apply torch DataParallel on model\n",
      "2023-06-13 21:15:13,323 ignite.distributed.auto.auto_model INFO: Apply torch DataParallel on model\n"
     ]
    }
   ],
   "source": [
    "# from unet.unet_model import UNet\n",
    "from torch import optim \n",
    "from ignite.handlers.param_scheduler import LRScheduler\n",
    "\n",
    "class ConvBlock(nn.Module):\n",
    "    def __init__(self, in_channel, out_channel, kernel_size=3, stride=1, padding=1):\n",
    "        super(ConvBlock, self).__init__()\n",
    "        self.conv1_1 = nn.Conv2d(in_channel, out_channel, kernel_size, stride, padding)\n",
    "        self.lrelu1_1 = nn.LeakyReLU(0.2, inplace=True)\n",
    "        self.conv1_2 = nn.Conv2d(out_channel, out_channel, 3, padding=1)\n",
    "        self.lrelu1_2 = nn.LeakyReLU(0.2, inplace=True)\n",
    "\n",
    "    def forward(self, x):\n",
    "        x = self.conv1_1(x)\n",
    "        x = self.lrelu1_1(x)\n",
    "        x = self.conv1_2(x)\n",
    "        x = self.lrelu1_2(x)\n",
    "        return x\n",
    "    \n",
    "class UpConcatBlock(nn.Module):\n",
    "    def __init__(self, in_channel, out_channel):\n",
    "        super(UpConcatBlock, self).__init__()\n",
    "        self.deconv = nn.ConvTranspose2d(in_channel, in_channel // 2, kernel_size=2, stride=2)\n",
    "        self.conv_block = ConvBlock(in_channel, out_channel)\n",
    "\n",
    "    def forward(self, x1, x2):\n",
    "        x1 = self.deconv(x1)\n",
    "        # input is CHW\n",
    "        diffY = x2.size()[2] - x1.size()[2]\n",
    "        diffX = x2.size()[3] - x1.size()[3]\n",
    "\n",
    "        x1 = torch.nn.functional.pad(x1, [diffX // 2, diffX - diffX // 2,\n",
    "                        diffY // 2, diffY - diffY // 2])\n",
    "        # if you have padding issues, see\n",
    "        # https://github.com/HaiyongJiang/U-Net-Pytorch-Unstructured-Buggy/commit/0e854509c2cea854e247a9c615f175f76fbb2e3a\n",
    "        # https://github.com/xiaopeng-liao/Pytorch-UNet/commit/8ebac70e633bac59fc22bb5195e513d5832fb3bd\n",
    "        x = torch.cat([x2, x1], dim=1)\n",
    "        return self.conv_block(x)\n",
    "\n",
    "class UNet(nn.Module):\n",
    "    def __init__(self, in_feat):\n",
    "        super(UNet, self).__init__()\n",
    "        \n",
    "        self.down1 = ConvBlock(in_feat, 32) \n",
    "        self.pool1 = nn.MaxPool2d(2) # 512 -> 256\n",
    "        self.down2 = ConvBlock(32, 64) \n",
    "        self.pool2 = nn.MaxPool2d(2) # 256 -> 128\n",
    "        self.down3 = ConvBlock(64, 128) \n",
    "        self.pool3 = nn.MaxPool2d(2) # 128 -> 64\n",
    "        self.down4 = ConvBlock(128, 256) \n",
    "        self.pool4 = nn.MaxPool2d(2) # 64 -> 32\n",
    "        self.down5 = ConvBlock(256, 512)\n",
    "\n",
    "        self.up5 = UpConcatBlock(512, 256) # 32 -> 64\n",
    "        self.up4 = UpConcatBlock(256, 128) # 64 -> 128\n",
    "        self.up3 = UpConcatBlock(128, 64) # 128 -> 256\n",
    "        self.up2 = UpConcatBlock(64, 32) # 256 -> 512\n",
    "\n",
    "        self.conv10 = nn.Conv2d(32, 12, 1) # 512 -> 512*2\n",
    "\n",
    "    def forward(self, x):\n",
    "        down1 = self.down1(x)\n",
    "        down2 = self.down2(self.pool1(down1))\n",
    "        down3 = self.down3(self.pool2(down2))\n",
    "        down4 = self.down4(self.pool3(down3))\n",
    "        down5 = self.down5(self.pool4(down4))\n",
    "\n",
    "        up5 = self.up5(down5, down4)\n",
    "        up4 = self.up4(up5, down3)\n",
    "        up3 = self.up3(up4, down2)\n",
    "        up2 = self.up2(up3, down1)\n",
    "\n",
    "        out = self.conv10(up2)\n",
    "        out = torch.nn.functional.pixel_shuffle(out, 2)\n",
    "        # skip_z = {\n",
    "        #     'up2': up2,\n",
    "        #     'up3': up3,\n",
    "        #     'up4': up4,\n",
    "        #     'up5': up5,\n",
    "        #     'down5': down5\n",
    "        # }\n",
    "        return out\n",
    "\n",
    "class DownConcatBlock(nn.Module):\n",
    "    def __init__(self, in_channel, out_channel, kernel_size=3, stride=1, padding=1):\n",
    "        super(DownConcatBlock, self).__init__()\n",
    "        self.conv_block = ConvBlock(in_channel+out_channel, out_channel, kernel_size, stride, padding)\n",
    "\n",
    "    def forward(self, x1, x2):\n",
    "        # input is CHW\n",
    "        diffY = x2.size()[2] - x1.size()[2]\n",
    "        diffX = x2.size()[3] - x1.size()[3]\n",
    "\n",
    "        x1 = torch.nn.functional.pad(x1, [diffX // 2, diffX - diffX // 2,\n",
    "                        diffY // 2, diffY - diffY // 2])\n",
    "        # if you have padding issues, see\n",
    "        # https://github.com/HaiyongJiang/U-Net-Pytorch-Unstructured-Buggy/commit/0e854509c2cea854e247a9c615f175f76fbb2e3a\n",
    "        # https://github.com/xiaopeng-liao/Pytorch-UNet/commit/8ebac70e633bac59fc22bb5195e513d5832fb3bd\n",
    "        x = torch.cat([x2, x1], dim=1)\n",
    "        return self.conv_block(x)\n",
    "    \n",
    "class UUNet(nn.Module):\n",
    "    def __init__(self):\n",
    "        super(UUNet, self).__init__()\n",
    "\n",
    "        self.down0 = ConvBlock(3, 16) # 1024 -> 512\n",
    "        # self.down1 = DownConcatBlock(16, 32, 4, 2, 1) # 512 -> 256\n",
    "        # self.down2 = DownConcatBlock(32, 64, 4, 2, 1) # 256 -> 128\n",
    "        # self.down3 = DownConcatBlock(64, 128, 4, 2, 1) # 128 -> 64\n",
    "        # self.down4 = DownConcatBlock(128, 256, 4, 2, 1) # 64 -> 32\n",
    "        # self.down5 = DownConcatBlock(256, 512, 4, 2, 1)\n",
    "\n",
    "        self.down1 = ConvBlock(16, 32, 4, 2, 1) # 512 -> 256\n",
    "        self.down2 = ConvBlock(32, 64, 4, 2, 1) # 256 -> 128\n",
    "        self.down3 = ConvBlock(64, 128, 4, 2, 1) # 128 -> 64\n",
    "        self.down4 = ConvBlock(128, 256, 4, 2, 1) # 64 -> 32\n",
    "        self.down5 = ConvBlock(256, 512, 4, 2, 1)\n",
    "\n",
    "        self.up5 = UpConcatBlock(512, 256) # 32 -> 64\n",
    "        self.up4 = UpConcatBlock(256, 128) # 64 -> 128\n",
    "        self.up3 = UpConcatBlock(128, 64) # 128 -> 256\n",
    "        self.up2 = UpConcatBlock(64, 32) # 256 -> 512\n",
    "        self.up1 = UpConcatBlock(32, 16) # 512 -> 1024\n",
    "\n",
    "        self.conv10 = nn.Conv2d(16, 3, 1)\n",
    "\n",
    "    def forward(self, x):\n",
    "        down0 = self.down0(x)\n",
    "        # down1 = self.down1(skip_z['up2'], down0)\n",
    "        # down2 = self.down2(skip_z['up3'], down1)\n",
    "        # down3 = self.down3(skip_z['up4'], down2)\n",
    "        # down4 = self.down4(skip_z['up5'], down3)\n",
    "        # down5 = self.down5(skip_z['down5'], down4)\n",
    "        down1 = self.down1(down0)\n",
    "        down2 = self.down2(down1)\n",
    "        down3 = self.down3(down2)\n",
    "        down4 = self.down4(down3)\n",
    "        down5 = self.down5(down4)\n",
    "\n",
    "\n",
    "        up5 = self.up5(down5, down4)\n",
    "        up4 = self.up4(up5, down3)\n",
    "        up3 = self.up3(up4, down2)\n",
    "        up2 = self.up2(up3, down1)\n",
    "        up1 = self.up1(up2, down0)\n",
    "\n",
    "        out = self.conv10(up1)\n",
    "        return out\n",
    "\n",
    "pretrained = UNet(4)\n",
    "net = UUNet()\n",
    "pretrained_model = idist.auto_model(pretrained)\n",
    "model = idist.auto_model(net)\n",
    "optimizer = idist.auto_optim(optim.SGD(model.parameters(), lr=1e-4))\n",
    "loss = nn.L1Loss()\n",
    "lr_scheduler = LRScheduler(optim.lr_scheduler.StepLR(optimizer, step_size=10, gamma=0.8))"
   ]
  },
  {
   "cell_type": "code",
   "execution_count": 5,
   "metadata": {},
   "outputs": [
    {
     "data": {
      "text/plain": [
       "<All keys matched successfully>"
      ]
     },
     "execution_count": 5,
     "metadata": {},
     "output_type": "execute_result"
    }
   ],
   "source": [
    "# Load best model\n",
    "pretrained_checkpoint = torch.load('pretrained_model.pt')\n",
    "pretrained_model.load_state_dict(pretrained_checkpoint['model_state_dict'])"
   ]
  },
  {
   "cell_type": "code",
   "execution_count": 6,
   "metadata": {},
   "outputs": [
    {
     "data": {
      "text/plain": [
       "==========================================================================================\n",
       "Layer (type:depth-idx)                   Output Shape              Param #\n",
       "==========================================================================================\n",
       "DataParallel                             [8, 3, 1024, 1024]        --\n",
       "├─UUNet: 1-1                             [4, 3, 1024, 1024]        8,997,779\n",
       "├─UUNet: 1-4                             --                        (recursive)\n",
       "│    └─ConvBlock: 2-1                    [4, 16, 1024, 1024]       2,768\n",
       "│    └─ConvBlock: 2-4                    --                        (recursive)\n",
       "│    │    └─Conv2d: 3-1                  [4, 16, 1024, 1024]       448\n",
       "├─UUNet: 1-3                             [4, 3, 1024, 1024]        --\n",
       "├─UUNet: 1-4                             --                        (recursive)\n",
       "│    └─ConvBlock: 2-3                    [4, 16, 1024, 1024]       --\n",
       "│    └─ConvBlock: 2-4                    --                        (recursive)\n",
       "│    │    └─Conv2d: 3-2                  [4, 16, 1024, 1024]       --\n",
       "│    │    └─LeakyReLU: 3-3               [4, 16, 1024, 1024]       --\n",
       "│    │    └─LeakyReLU: 3-4               [4, 16, 1024, 1024]       --\n",
       "│    │    └─Conv2d: 3-5                  [4, 16, 1024, 1024]       --\n",
       "│    │    └─Conv2d: 3-6                  [4, 16, 1024, 1024]       2,320\n",
       "│    │    └─LeakyReLU: 3-7               [4, 16, 1024, 1024]       --\n",
       "│    │    └─LeakyReLU: 3-8               [4, 16, 1024, 1024]       --\n",
       "│    └─ConvBlock: 2-5                    [4, 32, 512, 512]         17,472\n",
       "│    └─ConvBlock: 2-11                   --                        (recursive)\n",
       "│    │    └─Conv2d: 3-9                  [4, 32, 512, 512]         8,224\n",
       "│    └─ConvBlock: 2-7                    [4, 32, 512, 512]         --\n",
       "│    └─ConvBlock: 2-11                   --                        (recursive)\n",
       "│    │    └─Conv2d: 3-10                 [4, 32, 512, 512]         --\n",
       "│    │    └─LeakyReLU: 3-11              [4, 32, 512, 512]         --\n",
       "│    │    └─Conv2d: 3-12                 [4, 32, 512, 512]         --\n",
       "│    │    └─LeakyReLU: 3-13              [4, 32, 512, 512]         --\n",
       "│    │    └─LeakyReLU: 3-14              [4, 32, 512, 512]         --\n",
       "│    └─ConvBlock: 2-9                    [4, 64, 256, 256]         --\n",
       "│    └─ConvBlock: 2-13                   --                        (recursive)\n",
       "│    │    └─Conv2d: 3-15                 [4, 64, 256, 256]         --\n",
       "│    └─ConvBlock: 2-11                   --                        (recursive)\n",
       "│    │    └─Conv2d: 3-16                 [4, 32, 512, 512]         9,248\n",
       "│    │    └─LeakyReLU: 3-17              [4, 32, 512, 512]         --\n",
       "│    └─ConvBlock: 2-12                   [4, 64, 256, 256]         69,760\n",
       "│    └─ConvBlock: 2-13                   --                        (recursive)\n",
       "│    │    └─Conv2d: 3-18                 [4, 64, 256, 256]         32,832\n",
       "│    │    └─LeakyReLU: 3-19              [4, 64, 256, 256]         --\n",
       "│    │    └─LeakyReLU: 3-20              [4, 64, 256, 256]         --\n",
       "│    │    └─Conv2d: 3-21                 [4, 64, 256, 256]         36,928\n",
       "│    │    └─Conv2d: 3-22                 [4, 64, 256, 256]         --\n",
       "│    │    └─LeakyReLU: 3-23              [4, 64, 256, 256]         --\n",
       "│    │    └─LeakyReLU: 3-24              [4, 64, 256, 256]         --\n",
       "│    └─ConvBlock: 2-14                   [4, 128, 128, 128]        278,784\n",
       "│    └─ConvBlock: 2-17                   --                        (recursive)\n",
       "│    │    └─Conv2d: 3-25                 [4, 128, 128, 128]        131,200\n",
       "│    └─ConvBlock: 2-16                   [4, 128, 128, 128]        --\n",
       "│    └─ConvBlock: 2-17                   --                        (recursive)\n",
       "│    │    └─Conv2d: 3-26                 [4, 128, 128, 128]        --\n",
       "│    │    └─LeakyReLU: 3-27              [4, 128, 128, 128]        --\n",
       "│    │    └─LeakyReLU: 3-28              [4, 128, 128, 128]        --\n",
       "│    │    └─Conv2d: 3-29                 [4, 128, 128, 128]        147,584\n",
       "│    │    └─Conv2d: 3-30                 [4, 128, 128, 128]        --\n",
       "│    │    └─LeakyReLU: 3-31              [4, 128, 128, 128]        --\n",
       "│    │    └─LeakyReLU: 3-32              [4, 128, 128, 128]        --\n",
       "│    └─ConvBlock: 2-18                   [4, 256, 64, 64]          1,114,624\n",
       "│    └─ConvBlock: 2-21                   --                        (recursive)\n",
       "│    │    └─Conv2d: 3-33                 [4, 256, 64, 64]          524,544\n",
       "│    └─ConvBlock: 2-20                   [4, 256, 64, 64]          --\n",
       "│    └─ConvBlock: 2-21                   --                        (recursive)\n",
       "│    │    └─Conv2d: 3-34                 [4, 256, 64, 64]          --\n",
       "│    │    └─LeakyReLU: 3-35              [4, 256, 64, 64]          --\n",
       "│    │    └─LeakyReLU: 3-36              [4, 256, 64, 64]          --\n",
       "│    │    └─Conv2d: 3-37                 [4, 256, 64, 64]          590,080\n",
       "│    │    └─Conv2d: 3-38                 [4, 256, 64, 64]          --\n",
       "│    │    └─LeakyReLU: 3-39              [4, 256, 64, 64]          --\n",
       "│    │    └─LeakyReLU: 3-40              [4, 256, 64, 64]          --\n",
       "│    └─ConvBlock: 2-22                   [4, 512, 32, 32]          4,457,472\n",
       "│    └─ConvBlock: 2-28                   --                        (recursive)\n",
       "│    │    └─Conv2d: 3-41                 [4, 512, 32, 32]          2,097,664\n",
       "│    └─ConvBlock: 2-24                   [4, 512, 32, 32]          --\n",
       "│    └─ConvBlock: 2-28                   --                        (recursive)\n",
       "│    │    └─Conv2d: 3-42                 [4, 512, 32, 32]          --\n",
       "│    │    └─LeakyReLU: 3-43              [4, 512, 32, 32]          --\n",
       "│    │    └─LeakyReLU: 3-44              [4, 512, 32, 32]          --\n",
       "│    │    └─Conv2d: 3-45                 [4, 512, 32, 32]          --\n",
       "│    │    └─Conv2d: 3-46                 [4, 512, 32, 32]          2,359,808\n",
       "│    │    └─LeakyReLU: 3-47              [4, 512, 32, 32]          --\n",
       "│    └─UpConcatBlock: 2-26               [4, 256, 64, 64]          --\n",
       "│    └─UpConcatBlock: 2-30               --                        (recursive)\n",
       "│    │    └─ConvTranspose2d: 3-48        [4, 256, 64, 64]          --\n",
       "│    └─ConvBlock: 2-28                   --                        (recursive)\n",
       "│    │    └─LeakyReLU: 3-49              [4, 512, 32, 32]          --\n",
       "│    └─UpConcatBlock: 2-29               [4, 256, 64, 64]          2,294,528\n",
       "│    └─UpConcatBlock: 2-30               --                        (recursive)\n",
       "│    │    └─ConvTranspose2d: 3-50        [4, 256, 64, 64]          524,544\n",
       "│    │    └─ConvBlock: 3-51              [4, 256, 64, 64]          --\n",
       "│    │    └─ConvBlock: 3-54              --                        (recursive)\n",
       "│    │    └─ConvBlock: 3-53              [4, 256, 64, 64]          1,769,984\n",
       "│    │    └─ConvBlock: 3-54              --                        (recursive)\n",
       "│    └─UpConcatBlock: 2-31               [4, 128, 128, 128]        --\n",
       "│    └─UpConcatBlock: 2-37               --                        (recursive)\n",
       "│    │    └─ConvTranspose2d: 3-55        [4, 128, 128, 128]        --\n",
       "│    └─UpConcatBlock: 2-33               [4, 128, 128, 128]        573,824\n",
       "│    └─UpConcatBlock: 2-37               --                        (recursive)\n",
       "│    │    └─ConvTranspose2d: 3-56        [4, 128, 128, 128]        131,200\n",
       "│    │    └─ConvBlock: 3-57              [4, 128, 128, 128]        --\n",
       "│    │    └─ConvBlock: 3-62              --                        (recursive)\n",
       "│    │    └─ConvBlock: 3-59              [4, 128, 128, 128]        442,624\n",
       "│    │    └─ConvBlock: 3-62              --                        (recursive)\n",
       "│    └─UpConcatBlock: 2-35               [4, 64, 256, 256]         --\n",
       "│    └─UpConcatBlock: 2-39               --                        (recursive)\n",
       "│    │    └─ConvTranspose2d: 3-61        [4, 64, 256, 256]         --\n",
       "│    └─UpConcatBlock: 2-37               --                        (recursive)\n",
       "│    │    └─ConvBlock: 3-62              --                        (recursive)\n",
       "│    └─UpConcatBlock: 2-38               [4, 64, 256, 256]         143,552\n",
       "│    └─UpConcatBlock: 2-39               --                        (recursive)\n",
       "│    │    └─ConvTranspose2d: 3-63        [4, 64, 256, 256]         32,832\n",
       "│    │    └─ConvBlock: 3-64              [4, 64, 256, 256]         --\n",
       "│    │    └─ConvBlock: 3-67              --                        (recursive)\n",
       "│    │    └─ConvBlock: 3-66              [4, 64, 256, 256]         110,720\n",
       "│    │    └─ConvBlock: 3-67              --                        (recursive)\n",
       "│    └─UpConcatBlock: 2-40               [4, 32, 512, 512]         --\n",
       "│    └─UpConcatBlock: 2-46               --                        (recursive)\n",
       "│    │    └─ConvTranspose2d: 3-68        [4, 32, 512, 512]         --\n",
       "│    └─UpConcatBlock: 2-42               [4, 32, 512, 512]         35,936\n",
       "│    └─UpConcatBlock: 2-46               --                        (recursive)\n",
       "│    │    └─ConvTranspose2d: 3-69        [4, 32, 512, 512]         8,224\n",
       "│    │    └─ConvBlock: 3-70              [4, 32, 512, 512]         27,712\n",
       "│    │    └─ConvBlock: 3-75              --                        (recursive)\n",
       "│    │    └─ConvBlock: 3-72              [4, 32, 512, 512]         --\n",
       "│    │    └─ConvBlock: 3-75              --                        (recursive)\n",
       "│    └─UpConcatBlock: 2-44               [4, 16, 1024, 1024]       --\n",
       "│    └─UpConcatBlock: 2-50               --                        (recursive)\n",
       "│    │    └─ConvTranspose2d: 3-74        [4, 16, 1024, 1024]       --\n",
       "│    └─UpConcatBlock: 2-46               --                        (recursive)\n",
       "│    │    └─ConvBlock: 3-75              --                        (recursive)\n",
       "│    └─UpConcatBlock: 2-47               [4, 16, 1024, 1024]       9,008\n",
       "│    └─UpConcatBlock: 2-50               --                        (recursive)\n",
       "│    │    └─ConvTranspose2d: 3-76        [4, 16, 1024, 1024]       2,064\n",
       "│    │    └─ConvBlock: 3-77              [4, 16, 1024, 1024]       --\n",
       "│    │    └─ConvBlock: 3-81              --                        (recursive)\n",
       "│    │    └─ConvBlock: 3-79              [4, 16, 1024, 1024]       6,944\n",
       "│    │    └─ConvBlock: 3-81              --                        (recursive)\n",
       "│    └─Conv2d: 2-49                      [4, 3, 1024, 1024]        --\n",
       "│    └─UpConcatBlock: 2-50               --                        (recursive)\n",
       "│    │    └─ConvBlock: 3-81              --                        (recursive)\n",
       "│    └─Conv2d: 2-51                      [4, 3, 1024, 1024]        51\n",
       "==========================================================================================\n",
       "Total params: 29,351,270\n",
       "Trainable params: 29,351,270\n",
       "Non-trainable params: 0\n",
       "Total mult-adds (G): 291.52\n",
       "==========================================================================================\n",
       "Input size (MB): 100.66\n",
       "Forward/backward pass size (MB): 5335.15\n",
       "Params size (MB): 35.99\n",
       "Estimated Total Size (MB): 5471.81\n",
       "=========================================================================================="
      ]
     },
     "execution_count": 6,
     "metadata": {},
     "output_type": "execute_result"
    }
   ],
   "source": [
    "input_data = torch.randn(batch_size, 4, input_size, input_size)\n",
    "summary(model, input_data = pretrained_model(input_data))"
   ]
  },
  {
   "cell_type": "code",
   "execution_count": 7,
   "metadata": {},
   "outputs": [],
   "source": [
    "def random_crop(image_short, image_long, size):\n",
    "    H = image_short.shape[2]\n",
    "    W = image_short.shape[3]\n",
    "    ps = size\n",
    "    xx = np.random.randint(0, W - ps)\n",
    "    yy = np.random.randint(0, H - ps)\n",
    "    image_short = image_short[:,:,yy:yy + ps, xx:xx + ps]\n",
    "    image_long = image_long[:,:,yy * 2:yy * 2 + ps * 2, xx * 2:xx * 2 + ps * 2]\n",
    "    return image_short, image_long\n",
    "\n",
    "def pack_sony_raw(batch, device=None):\n",
    "    if not device:\n",
    "        device = idist.device()\n",
    "    batch = torch.maximum(batch - 512, torch.Tensor([0]).to(device=device)) / (16383 - 512)\n",
    "    H = batch.shape[2]\n",
    "    W = batch.shape[3]\n",
    "\n",
    "    out = torch.cat((batch[:,:, 0:H:2, 0:W:2], \n",
    "                     batch[:,:, 0:H:2, 1:W:2],\n",
    "                     batch[:,:, 1:H:2, 1:W:2],\n",
    "                     batch[:,:, 1:H:2, 0:W:2]), dim=1)\n",
    "    return out"
   ]
  },
  {
   "cell_type": "code",
   "execution_count": 8,
   "metadata": {},
   "outputs": [],
   "source": [
    "def training_step(engine, batch):\n",
    "    model.train()\n",
    "    pretrained_model.eval()\n",
    "    optimizer.zero_grad()\n",
    "\n",
    "    short, long, ratio, cam_model, exposure_ratio, _, _ = batch\n",
    "\n",
    "    short = short.to(idist.device())\n",
    "    long = long.to(idist.device())\n",
    "\n",
    "    # short = pack_sony_raw(short)\n",
    "    # short, long = random_crop(short, long, input_size)\n",
    "\n",
    "    long = long / 65535.0\n",
    "    short = adjust_black_level(short, device=idist.device())\n",
    "    short = short * exposure_ratio.float().to(idist.device()).view(-1, 1, 1, 1)\n",
    "\n",
    "    pretrained_output = pretrained_model(short)\n",
    "    # pretrained_output = torch.minimum(torch.maximum(pretrained_output, torch.Tensor([0]).to(idist.device())), torch.Tensor([1]).to(idist.device()))\n",
    "    output = model(pretrained_output.detach())\n",
    "\n",
    "    # with record_function(\"loss\"):\n",
    "    g_loss = loss(output, long)\n",
    "        \n",
    "    g_loss.backward()\n",
    "    optimizer.step()\n",
    "    return {\"Loss_G\": g_loss.item()}"
   ]
  },
  {
   "cell_type": "code",
   "execution_count": 9,
   "metadata": {},
   "outputs": [
    {
     "name": "stderr",
     "output_type": "stream",
     "text": [
      "/home/pikachu/.local/lib/python3.10/site-packages/ignite/contrib/handlers/tqdm_logger.py:127: TqdmWarning: IProgress not found. Please update jupyter and ipywidgets. See https://ipywidgets.readthedocs.io/en/stable/user_install.html\n",
      "  from tqdm.autonotebook import tqdm\n"
     ]
    }
   ],
   "source": [
    "trainer = Engine(training_step)\n",
    "trainer.add_event_handler(Events.EPOCH_STARTED, lr_scheduler)\n",
    "RunningAverage(output_transform=lambda x: x[\"Loss_G\"]).attach(trainer, 'Loss_G')\n",
    "ProgressBar().attach(trainer, metric_names=['Loss_G'])\n",
    "\n",
    "G_losses = []\n",
    "\n",
    "@trainer.on(Events.EPOCH_COMPLETED)\n",
    "def store_losses(engine):\n",
    "    o = engine.state.output\n",
    "    print(o[\"Loss_G\"])\n",
    "    G_losses.append(o[\"Loss_G\"])\n",
    "\n",
    "best_l1 = 9999\n",
    "@trainer.on(Events.EPOCH_COMPLETED)\n",
    "def save_checkpoint(engine):\n",
    "    global best_l1\n",
    "    if engine.state.output[\"Loss_G\"] < best_l1:\n",
    "        best_l1 = engine.state.output[\"Loss_G\"]\n",
    "        print('New Best Score')\n",
    "        torch.save({\n",
    "            'epoch': engine.state.epoch,\n",
    "            'model_state_dict': model.state_dict(),\n",
    "            'optimizer_state_dict': optimizer.state_dict(),\n",
    "            'loss': loss,\n",
    "            }, 'model_best.pt')"
   ]
  },
  {
   "cell_type": "code",
   "execution_count": 10,
   "metadata": {},
   "outputs": [
    {
     "name": "stderr",
     "output_type": "stream",
     "text": [
      "2023-06-13 21:15:19,580 ignite.distributed.launcher.Parallel INFO: Initialized processing group with backend: 'nccl'\n",
      "2023-06-13 21:15:19,580 ignite.distributed.launcher.Parallel INFO: - Run '<function training at 0x7f7d4528dc60>' in 1 processes\n",
      "                                                                    \r"
     ]
    },
    {
     "name": "stdout",
     "output_type": "stream",
     "text": [
      "0.26889747381210327\n",
      "New Best Score\n"
     ]
    },
    {
     "name": "stderr",
     "output_type": "stream",
     "text": [
      "                                                                    \r"
     ]
    },
    {
     "name": "stdout",
     "output_type": "stream",
     "text": [
      "0.2467852681875229\n",
      "New Best Score\n"
     ]
    },
    {
     "name": "stderr",
     "output_type": "stream",
     "text": [
      "                                                                    \r"
     ]
    },
    {
     "name": "stdout",
     "output_type": "stream",
     "text": [
      "0.26605355739593506\n"
     ]
    },
    {
     "name": "stderr",
     "output_type": "stream",
     "text": [
      "                                                                    \r"
     ]
    },
    {
     "name": "stdout",
     "output_type": "stream",
     "text": [
      "0.25222766399383545\n"
     ]
    },
    {
     "name": "stderr",
     "output_type": "stream",
     "text": [
      "                                                                    \r"
     ]
    },
    {
     "name": "stdout",
     "output_type": "stream",
     "text": [
      "0.2907305359840393\n"
     ]
    },
    {
     "name": "stderr",
     "output_type": "stream",
     "text": [
      "                                                                    \r"
     ]
    },
    {
     "name": "stdout",
     "output_type": "stream",
     "text": [
      "0.25057947635650635\n"
     ]
    },
    {
     "name": "stderr",
     "output_type": "stream",
     "text": [
      "                                                                    \r"
     ]
    },
    {
     "name": "stdout",
     "output_type": "stream",
     "text": [
      "0.23222218453884125\n",
      "New Best Score\n"
     ]
    },
    {
     "name": "stderr",
     "output_type": "stream",
     "text": [
      "Epoch [8/100]: [122/233]  52%|█████▏    , Loss_G=0.235 [01:20<01:12]"
     ]
    }
   ],
   "source": [
    "num_epoch = 100\n",
    "def training(*args):\n",
    "    trainer.run(sony_dataloader, max_epochs=num_epoch)\n",
    "\n",
    "with idist.Parallel(backend='nccl') as parallel:\n",
    "    parallel.run(training)\n"
   ]
  },
  {
   "cell_type": "code",
   "execution_count": null,
   "metadata": {},
   "outputs": [
    {
     "data": {
      "text/plain": [
       "<matplotlib.legend.Legend at 0x7f7edab75810>"
      ]
     },
     "execution_count": 11,
     "metadata": {},
     "output_type": "execute_result"
    },
    {
     "data": {
      "image/png": "[encoded data removed]",
      "text/plain": [
       "<Figure size 1000x500 with 1 Axes>"
      ]
     },
     "metadata": {},
     "output_type": "display_data"
    }
   ],
   "source": [
    "import matplotlib.pyplot as plt\n",
    "%matplotlib inline\n",
    "\n",
    "plt.figure(figsize=(10,5))\n",
    "plt.title(\"L1 Loss During Training\")\n",
    "plt.plot(G_losses,label=\"G\")\n",
    "plt.xlabel(\"iterations\")\n",
    "plt.ylabel(\"Loss\")\n",
    "plt.legend()"
   ]
  },
  {
   "cell_type": "code",
   "execution_count": null,
   "metadata": {},
   "outputs": [],
   "source": [
    "torch.save({\n",
    "            'epoch': num_epoch,\n",
    "            'model_state_dict': model.state_dict(),\n",
    "            'optimizer_state_dict': optimizer.state_dict(),\n",
    "            'loss': loss,\n",
    "            }, 'model_seed_{}.pt'.format(torch.random.initial_seed()))"
   ]
  },
  {
   "cell_type": "code",
   "execution_count": null,
   "metadata": {},
   "outputs": [],
   "source": [
    "import cv2\n",
    "\n",
    "# Load best model\n",
    "checkpoint = torch.load('model_best.pt')\n",
    "# checkpoint = torch.load('model_seed_{}.pt'.format(torch.random.initial_seed()))\n",
    "best_model = idist.auto_model(\n",
    "    UUNet()\n",
    ")\n",
    "\n",
    "best_model.load_state_dict(checkpoint['model_state_dict'])\n"
   ]
  },
  {
   "cell_type": "code",
   "execution_count": null,
   "metadata": {},
   "outputs": [
    {
     "name": "stdout",
     "output_type": "stream",
     "text": [
      "Creating buffer for 229 images\n"
     ]
    }
   ],
   "source": [
    "root_dir = \"dataset\"\n",
    "sony_test_csv_files = [\"dataset/Sony_test_list.txt\"]\n",
    "\n",
    "sony_test_dataset = LabeledDataset(root_dir, *sony_test_csv_files, transform=transforms.Compose([\n",
    "    transforms.ToTensor()\n",
    "]))\n",
    "sony_test_dataloader = DataLoader(sony_test_dataset, batch_size=1, num_workers=1)"
   ]
  },
  {
   "cell_type": "code",
   "execution_count": null,
   "metadata": {},
   "outputs": [],
   "source": [
    "import matplotlib.pyplot as plt\n",
    "\n",
    "with torch.no_grad():\n",
    "    best_model.eval()\n",
    "    pretrained_model.eval()\n",
    "    list_samp = [1, 13, 27, 39, 51, 61, 73]\n",
    "    o = 0\n",
    "    for batch in sony_test_dataloader:\n",
    "    # batch = next(iter(sony_test_dataloader))\n",
    "        short, long, ratio, cam_model, exposure_ratio, _, _, short_raw = batch\n",
    "        o += 1\n",
    "        if o > list_samp[-1]:\n",
    "            break\n",
    "        if o not in list_samp:\n",
    "            continue\n",
    "        short_ = short\n",
    "        short = short.to(idist.device())\n",
    "        long = long.to(idist.device())\n",
    "\n",
    "        short = pack_sony_raw(short)\n",
    "        print(torch.mean(short), torch.median(short), torch.min(short), torch.max(short))\n",
    "        long = long / 65535.0\n",
    "        short = short * exposure_ratio.float().to(idist.device()).view(-1, 1, 1, 1)\n",
    "        print(torch.mean(short), torch.median(short), torch.min(short), torch.max(short))\n",
    "        \n",
    "        \n",
    "        pretrained_output, skip_z = pretrained_model(short)\n",
    "        output = model(pretrained_output, skip_z)\n",
    "        # output = torch.nn.functional.pixel_shuffle(output, 2)\n",
    "\n",
    "        output = output[0, :, :, :].to('cpu').numpy()\n",
    "        output = np.minimum(np.maximum(output, 0), 1)\n",
    "        gt_full = long[0, :, :, :].to('cpu').numpy()\n",
    "        raw_input = short_raw[0, :, :, :].to('cpu').numpy() / 65535.0\n",
    "        scale_full = np.float32(short_raw[0, :, :, :].to('cpu').numpy() / 65535.0)\n",
    "        scale_full = scale_full * np.mean(gt_full) / np.mean(scale_full) \n",
    "\n",
    "        print(np.mean(output[0]), np.median(output[0]), np.min(output[0]), np.max(output[0]))\n",
    "        print(np.mean(output[1]), np.median(output[1]), np.min(output[1]), np.max(output[1]))\n",
    "        print(np.mean(output[2]), np.median(output[2]), np.min(output[2]), np.max(output[2]))\n",
    "        print(np.mean(gt_full[0]), np.median(gt_full[0]), np.min(gt_full[0]), np.max(gt_full[0]))\n",
    "        print(np.mean(gt_full[1]), np.median(gt_full[1]), np.min(gt_full[1]), np.max(gt_full[1]))\n",
    "        print(np.mean(gt_full[2]), np.median(gt_full[2]), np.min(gt_full[2]), np.max(gt_full[2]))\n",
    "\n",
    "        output = np.minimum(np.transpose(output, (1,2,0)) * 255, 255).astype(np.uint8)\n",
    "        # output = (output-np.min(output))/(np.max(output)-np.min(output))\n",
    "        gt_full = np.minimum(np.transpose(gt_full, (1,2,0)) * 255, 255).astype(np.uint8)\n",
    "        raw_input = np.minimum(raw_input * 255, 255).astype(np.uint8)\n",
    "        scale_full = np.minimum(scale_full * 255, 255).astype(np.uint8)\n",
    "\n",
    "        color = ('b','g','r')\n",
    "        plt.figure(figsize=(15,15))\n",
    "        ax = plt.subplot(4,4,1)\n",
    "        ax.set_title(\"Input\")\n",
    "        ax.set_ylim([0, 1e6])\n",
    "        for i,col in enumerate(color):\n",
    "            histr = cv2.calcHist([raw_input],[i],None,[256],[0,256])\n",
    "            plt.plot(histr,color = col)\n",
    "            plt.xlim([0,256])\n",
    "        plt.subplot(4,4,5)\n",
    "        plt.imshow(raw_input)\n",
    "\n",
    "        ax = plt.subplot(4,4,2)\n",
    "        ax.set_title(\"Histogram Stretching\")\n",
    "        ax.set_ylim([0, 1e6])\n",
    "        for i,col in enumerate(color):\n",
    "            histr = cv2.calcHist([scale_full],[i],None,[256],[0,256])\n",
    "            plt.plot(histr,color = col)\n",
    "            plt.xlim([0,256])\n",
    "        plt.subplot(4,4,6)\n",
    "        plt.imshow(scale_full)\n",
    "\n",
    "        ax = plt.subplot(4,4,3)\n",
    "        ax.set_title(\"Network Output\")\n",
    "        ax.set_ylim([0, 1e6])\n",
    "        for i,col in enumerate(color):\n",
    "            histr = cv2.calcHist([output],[i],None,[256],[0,256])\n",
    "            plt.plot(histr,color = col)\n",
    "            plt.xlim([0,256])\n",
    "        plt.subplot(4,4,7)\n",
    "        plt.imshow(output)\n",
    "\n",
    "        ax = plt.subplot(4,4,4)\n",
    "        ax.set_title(\"Ground Truth\")\n",
    "        ax.set_ylim([0, 1e6])\n",
    "        for i,col in enumerate(color):\n",
    "            histr = cv2.calcHist([gt_full],[i],None,[256],[0,256])\n",
    "            plt.plot(histr,color = col)\n",
    "            plt.xlim([0,256])\n",
    "        plt.subplot(4,4,8)\n",
    "        plt.imshow(gt_full)\n",
    "        plt.show()"
   ]
  },
  {
   "cell_type": "code",
   "execution_count": null,
   "metadata": {},
   "outputs": [],
   "source": [
    "from ignite.metrics import PSNR, SSIM\n",
    "\n",
    "def eval_step(engine, batch):\n",
    "    best_model.eval()\n",
    "    pretrained_model.eval()\n",
    "    with torch.no_grad():\n",
    "        short, long, ratio, cam_model, exposure_ratio, _, _, short_raw = batch\n",
    "\n",
    "        short = short.to(idist.device())\n",
    "        long = long.to(idist.device())\n",
    "\n",
    "        short = pack_sony_raw(short)\n",
    "        long = long / 65535.0\n",
    "        short = short * exposure_ratio.float().to(idist.device()).view(-1, 1, 1, 1)   \n",
    "        \n",
    "        output = best_model(short)\n",
    "        output = torch.minimum(torch.maximum(output, torch.Tensor([0]).to(idist.device())), torch.Tensor([1]).to(idist.device()))\n",
    "\n",
    "        return output, long\n",
    "\n",
    "evaluator = Engine(eval_step)\n",
    "psnr = PSNR(data_range=1.0)\n",
    "psnr.attach(evaluator, 'psnr')\n",
    "ssim = SSIM(data_range=1.0)\n",
    "ssim.attach(evaluator, 'ssim')\n",
    "ProgressBar().attach(evaluator)"
   ]
  },
  {
   "cell_type": "code",
   "execution_count": null,
   "metadata": {},
   "outputs": [
    {
     "name": "stdout",
     "output_type": "stream",
     "text": [
      "Creating buffer for 229 images\n"
     ]
    },
    {
     "name": "stderr",
     "output_type": "stream",
     "text": [
      "2023-06-13 15:53:14,943 ignite.distributed.auto.auto_dataloader INFO: Use data loader kwargs for dataset '<utils.datasets.Labe': \n",
      "\t{'batch_size': 2, 'num_workers': 8, 'pin_memory': True}\n"
     ]
    }
   ],
   "source": [
    "root_dir = \"dataset\"\n",
    "sony_val_csv_files = [\"dataset/Sony_test_list.txt\"]\n",
    "\n",
    "sony_val_dataset = LabeledDataset(root_dir, *sony_val_csv_files, training=False, transform=transforms.Compose([\n",
    "    transforms.ToTensor()\n",
    "]))\n",
    "sony_val_dataloader = idist.auto_dataloader(sony_val_dataset, batch_size=2, num_workers=8)"
   ]
  },
  {
   "cell_type": "code",
   "execution_count": null,
   "metadata": {},
   "outputs": [],
   "source": [
    "state = evaluator.run(sony_val_dataloader)"
   ]
  },
  {
   "cell_type": "code",
   "execution_count": null,
   "metadata": {},
   "outputs": [],
   "source": [
    "print(state.metrics['psnr'])\n",
    "print(state.metrics['ssim'])"
   ]
  }
 ],
 "metadata": {
  "kernelspec": {
   "display_name": "Python 3",
   "language": "python",
   "name": "python3"
  },
  "language_info": {
   "codemirror_mode": {
    "name": "ipython",
    "version": 3
   },
   "file_extension": ".py",
   "mimetype": "text/x-python",
   "name": "python",
   "nbconvert_exporter": "python",
   "pygments_lexer": "ipython3",
   "version": "3.10.6"
  },
  "orig_nbformat": 4
 },
 "nbformat": 4,
 "nbformat_minor": 2
}
