{
 "cells": [
  {
   "cell_type": "code",
   "execution_count": 1,
   "metadata": {},
   "outputs": [],
   "source": [
    "import torch\n",
    "import torch.nn as nn\n",
    "import torchvision\n",
    "import torchvision.transforms as transforms\n",
    "import torchvision.datasets as datasets\n",
    "import matplotlib.pyplot as plt\n",
    "from torch.utils.data import DataLoader, Dataset\n",
    "import numpy as np\n",
    "import pandas as pd\n",
    "import os\n",
    "from PIL import Image\n",
    "import rawpy\n",
    "import imageio\n",
    "import cv2\n",
    "from utils.datasets import SonyDataset\n"
   ]
  },
  {
   "cell_type": "code",
   "execution_count": 2,
   "metadata": {},
   "outputs": [],
   "source": [
    "root_dir = \"dataset\"\n",
    "csv_file = \"dataset/Sony_train_list.txt\"\n",
    "\n",
    "transform = transforms.Compose([\n",
    "    transforms.ToTensor()\n",
    "])\n",
    "dataset = SonyDataset(csv_file, root_dir, transform=transform)\n"
   ]
  },
  {
   "cell_type": "code",
   "execution_count": 7,
   "metadata": {},
   "outputs": [
    {
     "name": "stdout",
     "output_type": "stream",
     "text": [
      "./Sony/long/00001_00_10s.ARW\n"
     ]
    }
   ],
   "source": [
    "print(dataset[0][1])\n",
    "# for i in range(len(dataset[0])):\n",
    "#     print(dataset[0][i])\n",
    "\n",
    "# plt.imshow(dataset[0][0].to(\"cpu\").permute(1, 2, 0))\n",
    "# plt.axis(\"off\")\n",
    "\n",
    "\n",
    "# with rawpy.imread(dataset[0][1]) as raw:\n",
    "#     image = raw.postprocess()\n",
    "\n",
    "\n",
    "# plt.imshow(image)\n"
   ]
  }
 ],
 "metadata": {
  "kernelspec": {
   "display_name": ".venv",
   "language": "python",
   "name": "python3"
  },
  "language_info": {
   "codemirror_mode": {
    "name": "ipython",
    "version": 3
   },
   "file_extension": ".py",
   "mimetype": "text/x-python",
   "name": "python",
   "nbconvert_exporter": "python",
   "pygments_lexer": "ipython3",
   "version": "3.10.6"
  },
  "orig_nbformat": 4
 },
 "nbformat": 4,
 "nbformat_minor": 2
}
