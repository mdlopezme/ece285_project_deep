{
 "cells": [
  {
   "cell_type": "code",
   "execution_count": 1,
   "metadata": {},
   "outputs": [],
   "source": [
    "import torch.nn as nn\n",
    "import torch\n",
    "import rawpy\n",
    "import numpy as np\n",
    "from torch.utils.data import DataLoader\n",
    "from utils.datasets import LabeledDataset\n",
    "\n",
    "import torchvision.transforms as transforms\n",
    "\n",
    "import ignite.distributed as idist\n",
    "from ignite.engine import Engine, Events\n",
    "from ignite.contrib.handlers import ProgressBar\n",
    "from ignite.metrics import FID, InceptionScore, RunningAverage\n",
    "\n",
    "from torchinfo import summary"
   ]
  },
  {
   "cell_type": "code",
   "execution_count": 2,
   "metadata": {},
   "outputs": [
    {
     "name": "stdout",
     "output_type": "stream",
     "text": [
      "torch.Size([1, 2848, 4256])\n",
      "torch.Size([3, 2848, 4256])\n"
     ]
    }
   ],
   "source": [
    "root_dir = \"dataset\"\n",
    "sony_csv_files = [\"dataset/Sony_train_list.txt\"]\n",
    "fuji_csv_files =  [\"dataset/Fuji_train_list.txt\"]\n",
    "\n",
    "batch_size = 8\n",
    "input_size = 512\n",
    "\n",
    "pre_crop_transform = transforms.Compose([\n",
    "    transforms.ToTensor()\n",
    "])\n",
    "\n",
    "sony_dataset = LabeledDataset(root_dir, *sony_csv_files, transform=pre_crop_transform)\n",
    "sony_dataloader = DataLoader(sony_dataset, batch_size=batch_size, num_workers=8, shuffle=True)\n",
    "print(sony_dataset[0][0].shape)\n",
    "print(sony_dataset[0][1].shape)"
   ]
  },
  {
   "cell_type": "code",
   "execution_count": 3,
   "metadata": {},
   "outputs": [
    {
     "name": "stderr",
     "output_type": "stream",
     "text": [
      "2023-06-04 10:18:50,962 ignite.distributed.auto.auto_model INFO: Apply torch DataParallel on model\n"
     ]
    }
   ],
   "source": [
    "from unet.unet_model import UNet\n",
    "from torch import optim \n",
    "from ignite.handlers.param_scheduler import LRScheduler\n",
    "\n",
    "\n",
    "net = nn.Sequential(\n",
    "    UNet(4, 3*4)\n",
    ")\n",
    "\n",
    "model = idist.auto_model(net)\n",
    "optimizer = optim.Adam(model.parameters(), lr=1e-3)\n",
    "loss = nn.MSELoss()\n",
    "lr_scheduler = LRScheduler(optim.lr_scheduler.StepLR(optimizer, step_size=3, gamma=0.33))"
   ]
  },
  {
   "cell_type": "code",
   "execution_count": 4,
   "metadata": {},
   "outputs": [
    {
     "data": {
      "text/plain": [
       "=========================================================================================================\n",
       "Layer (type:depth-idx)                                  Output Shape              Param #\n",
       "=========================================================================================================\n",
       "DataParallel                                            [8, 12, 512, 512]         --\n",
       "├─Sequential: 1-1                                       [4, 12, 512, 512]         31,038,924\n",
       "├─Sequential: 1-4                                       --                        (recursive)\n",
       "│    └─UNet: 2-1                                        [4, 12, 512, 512]         31,038,924\n",
       "│    └─UNet: 2-4                                        --                        (recursive)\n",
       "│    │    └─DoubleConv: 3-1                             [4, 64, 512, 512]         39,424\n",
       "│    │    └─DoubleConv: 3-23                            --                        (recursive)\n",
       "├─Sequential: 1-3                                       [4, 12, 512, 512]         --\n",
       "├─Sequential: 1-4                                       --                        (recursive)\n",
       "│    └─UNet: 2-3                                        [4, 12, 512, 512]         --\n",
       "│    └─UNet: 2-4                                        --                        (recursive)\n",
       "│    │    └─DoubleConv: 3-3                             [4, 64, 512, 512]         --\n",
       "│    │    └─DoubleConv: 3-23                            --                        (recursive)\n",
       "│    │    └─Down: 3-5                                   [4, 128, 256, 256]        221,696\n",
       "│    │    └─Down: 3-25                                  --                        (recursive)\n",
       "│    │    └─Down: 3-7                                   [4, 256, 128, 128]        885,760\n",
       "│    │    └─Down: 3-27                                  --                        (recursive)\n",
       "│    │    └─Down: 3-9                                   [4, 512, 64, 64]          3,540,992\n",
       "│    │    └─Down: 3-29                                  --                        (recursive)\n",
       "│    │    └─Down: 3-11                                  [4, 1024, 32, 32]         14,159,872\n",
       "│    │    └─Down: 3-31                                  --                        (recursive)\n",
       "│    │    └─Up: 3-13                                    [4, 512, 64, 64]          9,177,600\n",
       "│    │    └─Up: 3-33                                    --                        (recursive)\n",
       "│    │    └─Up: 3-15                                    [4, 256, 128, 128]        2,295,040\n",
       "│    │    └─Up: 3-35                                    --                        (recursive)\n",
       "│    │    └─Up: 3-17                                    [4, 128, 256, 256]        574,080\n",
       "│    │    └─Up: 3-37                                    --                        (recursive)\n",
       "│    │    └─Up: 3-19                                    [4, 64, 512, 512]         143,680\n",
       "│    │    └─Up: 3-39                                    --                        (recursive)\n",
       "│    │    └─OutConv: 3-21                               [4, 12, 512, 512]         780\n",
       "│    │    └─OutConv: 3-41                               --                        (recursive)\n",
       "│    │    └─DoubleConv: 3-23                            --                        (recursive)\n",
       "│    │    └─Down: 3-24                                  [4, 128, 256, 256]        --\n",
       "│    │    └─Down: 3-25                                  --                        (recursive)\n",
       "│    │    └─Down: 3-26                                  [4, 256, 128, 128]        --\n",
       "│    │    └─Down: 3-27                                  --                        (recursive)\n",
       "│    │    └─Down: 3-28                                  [4, 512, 64, 64]          --\n",
       "│    │    └─Down: 3-29                                  --                        (recursive)\n",
       "│    │    └─Down: 3-30                                  [4, 1024, 32, 32]         --\n",
       "│    │    └─Down: 3-31                                  --                        (recursive)\n",
       "│    │    └─Up: 3-32                                    [4, 512, 64, 64]          --\n",
       "│    │    └─Up: 3-33                                    --                        (recursive)\n",
       "│    │    └─Up: 3-34                                    [4, 256, 128, 128]        --\n",
       "│    │    └─Up: 3-35                                    --                        (recursive)\n",
       "│    │    └─Up: 3-36                                    [4, 128, 256, 256]        --\n",
       "│    │    └─Up: 3-37                                    --                        (recursive)\n",
       "│    │    └─Up: 3-38                                    [4, 64, 512, 512]         --\n",
       "│    │    └─Up: 3-39                                    --                        (recursive)\n",
       "│    │    └─OutConv: 3-40                               [4, 12, 512, 512]         --\n",
       "│    │    └─OutConv: 3-41                               --                        (recursive)\n",
       "=========================================================================================================\n",
       "Total params: 199,428,400\n",
       "Trainable params: 199,428,400\n",
       "Non-trainable params: 0\n",
       "Total mult-adds (G): 875.24\n",
       "=========================================================================================================\n",
       "Input size (MB): 33.55\n",
       "Forward/backward pass size (MB): 9294.58\n",
       "Params size (MB): 124.16\n",
       "Estimated Total Size (MB): 9452.29\n",
       "========================================================================================================="
      ]
     },
     "execution_count": 4,
     "metadata": {},
     "output_type": "execute_result"
    }
   ],
   "source": [
    "input_data = torch.randn(batch_size, 4, input_size, input_size)\n",
    "summary(model, input_data = input_data)"
   ]
  },
  {
   "attachments": {},
   "cell_type": "markdown",
   "metadata": {},
   "source": []
  },
  {
   "cell_type": "code",
   "execution_count": 5,
   "metadata": {},
   "outputs": [],
   "source": [
    "def random_crop(image_short, image_long, size):\n",
    "    H = image_short.shape[2]\n",
    "    W = image_short.shape[3]\n",
    "    ps = size\n",
    "    xx = np.random.randint(0, W - ps)\n",
    "    yy = np.random.randint(0, H - ps)\n",
    "    image_short = image_short[:,:,yy:yy + ps, xx:xx + ps]\n",
    "    image_long = image_long[:,:,yy * 2:yy * 2 + ps * 2, xx * 2:xx * 2 + ps * 2]\n",
    "    return image_short, image_long\n",
    "\n",
    "def pack_sony_raw(batch):\n",
    "    batch = torch.maximum(batch - 512, torch.Tensor([0]).to(device=idist.device())) / (16383 - 512)\n",
    "    H = batch.shape[2]\n",
    "    W = batch.shape[3]\n",
    "\n",
    "    out = torch.cat((batch[:,:, 0:H:2, 0:W:2], \n",
    "                     batch[:,:, 0:H:2, 1:W:2],\n",
    "                     batch[:,:, 1:H:2, 1:W:2],\n",
    "                     batch[:,:, 1:H:2, 0:W:2]), dim=1)\n",
    "    return out"
   ]
  },
  {
   "cell_type": "code",
   "execution_count": 6,
   "metadata": {},
   "outputs": [],
   "source": [
    "def training_step(engine, batch):\n",
    "    model.train()\n",
    "    optimizer.zero_grad()\n",
    "    short, long, ratio, cam_model, exposure_ratio, _, _ = batch\n",
    "\n",
    "    short = short.to(idist.device())\n",
    "    long = long.to(idist.device())\n",
    "\n",
    "    short = pack_sony_raw(short)\n",
    "    long = long / 65535.0\n",
    "    short = short * exposure_ratio.float().to(idist.device()).view(-1, 1, 1, 1)\n",
    "    short, long = random_crop(short, long, input_size)\n",
    "\n",
    "    output = model(short)\n",
    "    output = torch.nn.functional.pixel_shuffle(output, 2)\n",
    "    g_loss = loss(output, long)\n",
    "    g_loss.backward()\n",
    "    optimizer.step()\n",
    "    return {\"Loss_G\": g_loss.item()}"
   ]
  },
  {
   "cell_type": "code",
   "execution_count": 7,
   "metadata": {},
   "outputs": [
    {
     "name": "stderr",
     "output_type": "stream",
     "text": [
      "/home/pikachu/.local/lib/python3.10/site-packages/ignite/contrib/handlers/tqdm_logger.py:127: TqdmWarning: IProgress not found. Please update jupyter and ipywidgets. See https://ipywidgets.readthedocs.io/en/stable/user_install.html\n",
      "  from tqdm.autonotebook import tqdm\n"
     ]
    }
   ],
   "source": [
    "trainer = Engine(training_step)\n",
    "trainer.add_event_handler(Events.ITERATION_STARTED, lr_scheduler)\n",
    "RunningAverage(output_transform=lambda x: x[\"Loss_G\"]).attach(trainer, 'Loss_G')\n",
    "ProgressBar().attach(trainer, metric_names=['Loss_G'])\n",
    "\n",
    "G_losses = []\n",
    "\n",
    "@trainer.on(Events.ITERATION_COMPLETED)\n",
    "def store_losses(engine):\n",
    "    o = engine.state.output\n",
    "    G_losses.append(o[\"Loss_G\"])"
   ]
  },
  {
   "cell_type": "code",
   "execution_count": 8,
   "metadata": {},
   "outputs": [
    {
     "name": "stderr",
     "output_type": "stream",
     "text": [
      "2023-06-04 10:18:55,511 ignite.distributed.launcher.Parallel INFO: Initialized processing group with backend: 'nccl'\n",
      "2023-06-04 10:18:55,512 ignite.distributed.launcher.Parallel INFO: - Run '<function training at 0x7fc9dc8580d0>' in 1 processes\n",
      "Epoch [5/10]: [46/234]  20%|█▉        , Loss_G=0.0121 [00:53<03:28] Engine run is terminating due to exception: \n",
      "2023-06-04 10:37:45,092 ignite.distributed.launcher.Parallel INFO: Finalized processing group with backend: 'nccl'\n"
     ]
    },
    {
     "ename": "KeyboardInterrupt",
     "evalue": "",
     "output_type": "error",
     "traceback": [
      "\u001b[0;31m---------------------------------------------------------------------------\u001b[0m",
      "\u001b[0;31mKeyboardInterrupt\u001b[0m                         Traceback (most recent call last)",
      "Cell \u001b[0;32mIn[8], line 5\u001b[0m\n\u001b[1;32m      2\u001b[0m     trainer\u001b[39m.\u001b[39mrun(sony_dataloader, max_epochs\u001b[39m=\u001b[39m\u001b[39m10\u001b[39m)\n\u001b[1;32m      4\u001b[0m \u001b[39mwith\u001b[39;00m idist\u001b[39m.\u001b[39mParallel(backend\u001b[39m=\u001b[39m\u001b[39m'\u001b[39m\u001b[39mnccl\u001b[39m\u001b[39m'\u001b[39m) \u001b[39mas\u001b[39;00m parallel:\n\u001b[0;32m----> 5\u001b[0m     parallel\u001b[39m.\u001b[39;49mrun(training)\n",
      "File \u001b[0;32m~/.local/lib/python3.10/site-packages/ignite/distributed/launcher.py:316\u001b[0m, in \u001b[0;36mParallel.run\u001b[0;34m(self, func, *args, **kwargs)\u001b[0m\n\u001b[1;32m    314\u001b[0m     \u001b[39mself\u001b[39m\u001b[39m.\u001b[39m_logger\u001b[39m.\u001b[39minfo(\u001b[39mf\u001b[39m\u001b[39m\"\u001b[39m\u001b[39m- Run \u001b[39m\u001b[39m'\u001b[39m\u001b[39m{\u001b[39;00mfunc\u001b[39m}\u001b[39;00m\u001b[39m'\u001b[39m\u001b[39m in \u001b[39m\u001b[39m{\u001b[39;00midist\u001b[39m.\u001b[39mget_world_size()\u001b[39m}\u001b[39;00m\u001b[39m processes\u001b[39m\u001b[39m\"\u001b[39m)  \u001b[39m# type: ignore[attr-defined]\u001b[39;00m\n\u001b[1;32m    315\u001b[0m     local_rank \u001b[39m=\u001b[39m idist\u001b[39m.\u001b[39mget_local_rank()\n\u001b[0;32m--> 316\u001b[0m     func(local_rank, \u001b[39m*\u001b[39;49margs, \u001b[39m*\u001b[39;49m\u001b[39m*\u001b[39;49mkwargs)\n\u001b[1;32m    318\u001b[0m \u001b[39mself\u001b[39m\u001b[39m.\u001b[39m_logger\u001b[39m.\u001b[39minfo(\u001b[39m\"\u001b[39m\u001b[39mEnd of run\u001b[39m\u001b[39m\"\u001b[39m)\n",
      "Cell \u001b[0;32mIn[8], line 2\u001b[0m, in \u001b[0;36mtraining\u001b[0;34m(*args)\u001b[0m\n\u001b[1;32m      1\u001b[0m \u001b[39mdef\u001b[39;00m \u001b[39mtraining\u001b[39m(\u001b[39m*\u001b[39margs):\n\u001b[0;32m----> 2\u001b[0m     trainer\u001b[39m.\u001b[39;49mrun(sony_dataloader, max_epochs\u001b[39m=\u001b[39;49m\u001b[39m10\u001b[39;49m)\n",
      "File \u001b[0;32m~/.local/lib/python3.10/site-packages/ignite/engine/engine.py:892\u001b[0m, in \u001b[0;36mEngine.run\u001b[0;34m(self, data, max_epochs, epoch_length, seed)\u001b[0m\n\u001b[1;32m    889\u001b[0m     \u001b[39mself\u001b[39m\u001b[39m.\u001b[39mstate\u001b[39m.\u001b[39mdataloader \u001b[39m=\u001b[39m data\n\u001b[1;32m    891\u001b[0m \u001b[39mif\u001b[39;00m \u001b[39mself\u001b[39m\u001b[39m.\u001b[39minterrupt_resume_enabled:\n\u001b[0;32m--> 892\u001b[0m     \u001b[39mreturn\u001b[39;00m \u001b[39mself\u001b[39;49m\u001b[39m.\u001b[39;49m_internal_run()\n\u001b[1;32m    893\u001b[0m \u001b[39melse\u001b[39;00m:\n\u001b[1;32m    894\u001b[0m     \u001b[39mreturn\u001b[39;00m \u001b[39mself\u001b[39m\u001b[39m.\u001b[39m_internal_run_legacy()\n",
      "File \u001b[0;32m~/.local/lib/python3.10/site-packages/ignite/engine/engine.py:935\u001b[0m, in \u001b[0;36mEngine._internal_run\u001b[0;34m(self)\u001b[0m\n\u001b[1;32m    933\u001b[0m     \u001b[39mself\u001b[39m\u001b[39m.\u001b[39m_internal_run_generator \u001b[39m=\u001b[39m \u001b[39mself\u001b[39m\u001b[39m.\u001b[39m_internal_run_as_gen()\n\u001b[1;32m    934\u001b[0m \u001b[39mtry\u001b[39;00m:\n\u001b[0;32m--> 935\u001b[0m     \u001b[39mreturn\u001b[39;00m \u001b[39mnext\u001b[39;49m(\u001b[39mself\u001b[39;49m\u001b[39m.\u001b[39;49m_internal_run_generator)\n\u001b[1;32m    936\u001b[0m \u001b[39mexcept\u001b[39;00m \u001b[39mStopIteration\u001b[39;00m \u001b[39mas\u001b[39;00m out:\n\u001b[1;32m    937\u001b[0m     \u001b[39mself\u001b[39m\u001b[39m.\u001b[39m_internal_run_generator \u001b[39m=\u001b[39m \u001b[39mNone\u001b[39;00m\n",
      "File \u001b[0;32m~/.local/lib/python3.10/site-packages/ignite/engine/engine.py:993\u001b[0m, in \u001b[0;36mEngine._internal_run_as_gen\u001b[0;34m(self)\u001b[0m\n\u001b[1;32m    991\u001b[0m     \u001b[39mself\u001b[39m\u001b[39m.\u001b[39m_dataloader_iter \u001b[39m=\u001b[39m \u001b[39mNone\u001b[39;00m\n\u001b[1;32m    992\u001b[0m     \u001b[39mself\u001b[39m\u001b[39m.\u001b[39mlogger\u001b[39m.\u001b[39merror(\u001b[39mf\u001b[39m\u001b[39m\"\u001b[39m\u001b[39mEngine run is terminating due to exception: \u001b[39m\u001b[39m{\u001b[39;00me\u001b[39m}\u001b[39;00m\u001b[39m\"\u001b[39m)\n\u001b[0;32m--> 993\u001b[0m     \u001b[39mself\u001b[39;49m\u001b[39m.\u001b[39;49m_handle_exception(e)\n\u001b[1;32m    995\u001b[0m \u001b[39mself\u001b[39m\u001b[39m.\u001b[39m_dataloader_iter \u001b[39m=\u001b[39m \u001b[39mNone\u001b[39;00m\n\u001b[1;32m    996\u001b[0m \u001b[39mreturn\u001b[39;00m \u001b[39mself\u001b[39m\u001b[39m.\u001b[39mstate\n",
      "File \u001b[0;32m~/.local/lib/python3.10/site-packages/ignite/engine/engine.py:638\u001b[0m, in \u001b[0;36mEngine._handle_exception\u001b[0;34m(self, e)\u001b[0m\n\u001b[1;32m    636\u001b[0m     \u001b[39mself\u001b[39m\u001b[39m.\u001b[39m_fire_event(Events\u001b[39m.\u001b[39mEXCEPTION_RAISED, e)\n\u001b[1;32m    637\u001b[0m \u001b[39melse\u001b[39;00m:\n\u001b[0;32m--> 638\u001b[0m     \u001b[39mraise\u001b[39;00m e\n",
      "File \u001b[0;32m~/.local/lib/python3.10/site-packages/ignite/engine/engine.py:959\u001b[0m, in \u001b[0;36mEngine._internal_run_as_gen\u001b[0;34m(self)\u001b[0m\n\u001b[1;32m    956\u001b[0m \u001b[39mif\u001b[39;00m \u001b[39mself\u001b[39m\u001b[39m.\u001b[39m_dataloader_iter \u001b[39mis\u001b[39;00m \u001b[39mNone\u001b[39;00m:\n\u001b[1;32m    957\u001b[0m     \u001b[39mself\u001b[39m\u001b[39m.\u001b[39m_setup_engine()\n\u001b[0;32m--> 959\u001b[0m epoch_time_taken \u001b[39m+\u001b[39m\u001b[39m=\u001b[39m \u001b[39myield from\u001b[39;00m \u001b[39mself\u001b[39m\u001b[39m.\u001b[39m_run_once_on_dataset_as_gen()\n\u001b[1;32m    961\u001b[0m \u001b[39m# time is available for handlers but must be updated after fire\u001b[39;00m\n\u001b[1;32m    962\u001b[0m \u001b[39mself\u001b[39m\u001b[39m.\u001b[39mstate\u001b[39m.\u001b[39mtimes[Events\u001b[39m.\u001b[39mEPOCH_COMPLETED\u001b[39m.\u001b[39mname] \u001b[39m=\u001b[39m epoch_time_taken\n",
      "File \u001b[0;32m~/.local/lib/python3.10/site-packages/ignite/engine/engine.py:1068\u001b[0m, in \u001b[0;36mEngine._run_once_on_dataset_as_gen\u001b[0;34m(self)\u001b[0m\n\u001b[1;32m   1065\u001b[0m \u001b[39mself\u001b[39m\u001b[39m.\u001b[39m_fire_event(Events\u001b[39m.\u001b[39mITERATION_STARTED)\n\u001b[1;32m   1066\u001b[0m \u001b[39myield from\u001b[39;00m \u001b[39mself\u001b[39m\u001b[39m.\u001b[39m_maybe_terminate_or_interrupt()\n\u001b[0;32m-> 1068\u001b[0m \u001b[39mself\u001b[39m\u001b[39m.\u001b[39mstate\u001b[39m.\u001b[39moutput \u001b[39m=\u001b[39m \u001b[39mself\u001b[39;49m\u001b[39m.\u001b[39;49m_process_function(\u001b[39mself\u001b[39;49m, \u001b[39mself\u001b[39;49m\u001b[39m.\u001b[39;49mstate\u001b[39m.\u001b[39;49mbatch)\n\u001b[1;32m   1069\u001b[0m \u001b[39mself\u001b[39m\u001b[39m.\u001b[39m_fire_event(Events\u001b[39m.\u001b[39mITERATION_COMPLETED)\n\u001b[1;32m   1070\u001b[0m \u001b[39myield from\u001b[39;00m \u001b[39mself\u001b[39m\u001b[39m.\u001b[39m_maybe_terminate_or_interrupt()\n",
      "Cell \u001b[0;32mIn[6], line 7\u001b[0m, in \u001b[0;36mtraining_step\u001b[0;34m(engine, batch)\u001b[0m\n\u001b[1;32m      4\u001b[0m short, long, ratio, cam_model, exposure_ratio, _, _ \u001b[39m=\u001b[39m batch\n\u001b[1;32m      6\u001b[0m short \u001b[39m=\u001b[39m short\u001b[39m.\u001b[39mto(idist\u001b[39m.\u001b[39mdevice())\n\u001b[0;32m----> 7\u001b[0m long \u001b[39m=\u001b[39m long\u001b[39m.\u001b[39;49mto(idist\u001b[39m.\u001b[39;49mdevice())\n\u001b[1;32m      9\u001b[0m short \u001b[39m=\u001b[39m pack_sony_raw(short)\n\u001b[1;32m     10\u001b[0m long \u001b[39m=\u001b[39m long \u001b[39m/\u001b[39m \u001b[39m65535.0\u001b[39m\n",
      "\u001b[0;31mKeyboardInterrupt\u001b[0m: "
     ]
    }
   ],
   "source": [
    "def training(*args):\n",
    "    trainer.run(sony_dataloader, max_epochs=10)\n",
    "\n",
    "with idist.Parallel(backend='nccl') as parallel:\n",
    "    parallel.run(training)"
   ]
  },
  {
   "cell_type": "code",
   "execution_count": null,
   "metadata": {},
   "outputs": [
    {
     "data": {
      "text/plain": [
       "<matplotlib.legend.Legend at 0x7f9f36b7ad70>"
      ]
     },
     "execution_count": 9,
     "metadata": {},
     "output_type": "execute_result"
    },
    {
     "data": {
      "image/png": "[encoded data removed]",
      "text/plain": [
       "<Figure size 1000x500 with 1 Axes>"
      ]
     },
     "metadata": {},
     "output_type": "display_data"
    }
   ],
   "source": [
    "import matplotlib.pyplot as plt\n",
    "%matplotlib inline\n",
    "\n",
    "plt.figure(figsize=(10,5))\n",
    "plt.title(\"Generator and Discriminator Loss During Training\")\n",
    "plt.plot(G_losses,label=\"G\")\n",
    "plt.xlabel(\"iterations\")\n",
    "plt.ylabel(\"Loss\")\n",
    "plt.legend()"
   ]
  },
  {
   "cell_type": "code",
   "execution_count": null,
   "metadata": {},
   "outputs": [],
   "source": [
    "torch.save({\n",
    "            'epoch': 10,\n",
    "            'model_state_dict': model.state_dict(),\n",
    "            'optimizer_state_dict': optimizer.state_dict(),\n",
    "            'loss': loss,\n",
    "            }, 'model_seed_{}.pt'.format(torch.random.initial_seed()))"
   ]
  },
  {
   "cell_type": "code",
   "execution_count": null,
   "metadata": {},
   "outputs": [
    {
     "name": "stdout",
     "output_type": "stream",
     "text": [
      "59246408.04508431\n",
      "0 0\n"
     ]
    },
    {
     "data": {
      "image/png": "[encoded data removed]",
      "text/plain": [
       "<Figure size 640x480 with 1 Axes>"
      ]
     },
     "metadata": {},
     "output_type": "display_data"
    }
   ],
   "source": [
    "import cv2\n",
    "with torch.no_grad():\n",
    "    model.eval()\n",
    "    out = model(transforms.CenterCrop(input_size)(dataset[0][0].unsqueeze(0)).to(idist.device())).to('cpu').numpy()\n",
    "    out = out.astype(np.uint16)\n",
    "    gt = transforms.CenterCrop(input_size)(dataset[0][1]).numpy().astype(np.uint16)\n",
    "    dist = np.linalg.norm(gt-out)\n",
    "    print(dist)\n",
    "    colour = cv2.cvtColor(out, cv2.COLOR_BAYER_BG2BGR)\n",
    "    print(np.min(colour), np.max(colour))\n",
    "    plt.imshow(colour)"
   ]
  },
  {
   "cell_type": "code",
   "execution_count": null,
   "metadata": {},
   "outputs": [],
   "source": []
  }
 ],
 "metadata": {
  "kernelspec": {
   "display_name": "Python 3",
   "language": "python",
   "name": "python3"
  },
  "language_info": {
   "codemirror_mode": {
    "name": "ipython",
    "version": 3
   },
   "file_extension": ".py",
   "mimetype": "text/x-python",
   "name": "python",
   "nbconvert_exporter": "python",
   "pygments_lexer": "ipython3",
   "version": "3.10.6"
  },
  "orig_nbformat": 4
 },
 "nbformat": 4,
 "nbformat_minor": 2
}
