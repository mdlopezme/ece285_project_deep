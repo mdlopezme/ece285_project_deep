{
 "cells": [
  {
   "cell_type": "code",
   "execution_count": 1,
   "metadata": {},
   "outputs": [],
   "source": [
    "import torch.nn as nn\n",
    "import torch\n",
    "import rawpy\n",
    "from torch.utils.data import DataLoader\n",
    "from utils.datasets import LabeledDataset\n",
    "\n",
    "import torchvision.transforms as transforms\n",
    "\n",
    "import ignite.distributed as idist\n",
    "from ignite.engine import Engine, Events\n",
    "from ignite.contrib.handlers import ProgressBar\n",
    "\n",
    "from torchinfo import summary"
   ]
  },
  {
   "cell_type": "code",
   "execution_count": 2,
   "metadata": {},
   "outputs": [
    {
     "name": "stdout",
     "output_type": "stream",
     "text": [
      "torch.Size([1, 3024, 2016])\n"
     ]
    }
   ],
   "source": [
    "root_dir = \"dataset\"\n",
    "csv_files = [\n",
    "    \"dataset/Sony_train_list.txt\",\n",
    "    \"dataset/Fuji_train_list.txt\"\n",
    "]\n",
    "\n",
    "input_size = (3024, 2016)\n",
    "\n",
    "transform = transforms.Compose([\n",
    "    transforms.ToTensor(),\n",
    "    transforms.CenterCrop(input_size)\n",
    "])\n",
    "dataset = LabeledDataset(root_dir, *csv_files, transform=transform)\n",
    "dataloader = DataLoader(dataset, batch_size=2, num_workers=8, shuffle=True)\n",
    "print(dataset[0][0].shape)"
   ]
  },
  {
   "cell_type": "code",
   "execution_count": 3,
   "metadata": {},
   "outputs": [
    {
     "name": "stderr",
     "output_type": "stream",
     "text": [
      "2023-06-02 08:21:20,370 ignite.distributed.auto.auto_model INFO: Apply torch DataParallel on model\n"
     ]
    }
   ],
   "source": [
    "from unet.unet_model import UNet\n",
    "from torch import optim\n",
    "\n",
    "model = idist.auto_model(UNet(1, 1).half())\n",
    "optimizer = optim.Adam(model.parameters(), lr=1e-3)\n",
    "loss = nn.MSELoss()"
   ]
  },
  {
   "cell_type": "code",
   "execution_count": 4,
   "metadata": {},
   "outputs": [
    {
     "data": {
      "text/plain": [
       "====================================================================================================\n",
       "Layer (type:depth-idx)                             Output Shape              Param #\n",
       "====================================================================================================\n",
       "DataParallel                                       [2, 1, 3024, 2016]        --\n",
       "├─UNet: 1-1                                        [1, 1, 3024, 2016]        31,036,481\n",
       "├─UNet: 1-4                                        --                        (recursive)\n",
       "│    └─DoubleConv: 2-1                             [1, 64, 3024, 2016]       37,696\n",
       "│    └─DoubleConv: 2-23                            --                        (recursive)\n",
       "│    │    └─Sequential: 3-1                        [1, 64, 3024, 2016]       37,696\n",
       "│    │    └─Sequential: 3-26                       --                        (recursive)\n",
       "├─UNet: 1-3                                        [1, 1, 3024, 2016]        --\n",
       "├─UNet: 1-4                                        --                        (recursive)\n",
       "│    └─DoubleConv: 2-3                             [1, 64, 3024, 2016]       --\n",
       "│    └─DoubleConv: 2-23                            --                        (recursive)\n",
       "│    │    └─Sequential: 3-3                        [1, 64, 3024, 2016]       --\n",
       "│    │    └─Sequential: 3-26                       --                        (recursive)\n",
       "│    └─Down: 2-5                                   [1, 128, 1512, 1008]      221,696\n",
       "│    └─Down: 2-25                                  --                        (recursive)\n",
       "│    │    └─Sequential: 3-5                        [1, 128, 1512, 1008]      221,696\n",
       "│    │    └─Sequential: 3-28                       --                        (recursive)\n",
       "│    └─Down: 2-7                                   [1, 256, 756, 504]        885,760\n",
       "│    └─Down: 2-27                                  --                        (recursive)\n",
       "│    │    └─Sequential: 3-7                        [1, 256, 756, 504]        885,760\n",
       "│    │    └─Sequential: 3-30                       --                        (recursive)\n",
       "│    └─Down: 2-9                                   [1, 512, 378, 252]        3,540,992\n",
       "│    └─Down: 2-29                                  --                        (recursive)\n",
       "│    │    └─Sequential: 3-9                        [1, 512, 378, 252]        3,540,992\n",
       "│    │    └─Sequential: 3-32                       --                        (recursive)\n",
       "│    └─Down: 2-11                                  [1, 1024, 189, 126]       14,159,872\n",
       "│    └─Down: 2-31                                  --                        (recursive)\n",
       "│    │    └─Sequential: 3-11                       [1, 1024, 189, 126]       14,159,872\n",
       "│    │    └─Sequential: 3-34                       --                        (recursive)\n",
       "│    └─Up: 2-13                                    [1, 512, 378, 252]        9,177,600\n",
       "│    └─Up: 2-33                                    --                        (recursive)\n",
       "│    │    └─ConvTranspose2d: 3-13                  [1, 512, 378, 252]        2,097,664\n",
       "│    │    └─DoubleConv: 3-14                       [1, 512, 378, 252]        7,079,936\n",
       "│    │    └─DoubleConv: 3-37                       --                        (recursive)\n",
       "│    └─Up: 2-15                                    [1, 256, 756, 504]        2,295,040\n",
       "│    └─Up: 2-35                                    --                        (recursive)\n",
       "│    │    └─ConvTranspose2d: 3-16                  [1, 256, 756, 504]        524,544\n",
       "│    │    └─DoubleConv: 3-17                       [1, 256, 756, 504]        1,770,496\n",
       "│    │    └─DoubleConv: 3-40                       --                        (recursive)\n",
       "│    └─Up: 2-17                                    [1, 128, 1512, 1008]      574,080\n",
       "│    └─Up: 2-37                                    --                        (recursive)\n",
       "│    │    └─ConvTranspose2d: 3-19                  [1, 128, 1512, 1008]      131,200\n",
       "│    │    └─DoubleConv: 3-20                       [1, 128, 1512, 1008]      442,880\n",
       "│    │    └─DoubleConv: 3-43                       --                        (recursive)\n",
       "│    └─Up: 2-19                                    [1, 64, 3024, 2016]       143,680\n",
       "│    └─Up: 2-39                                    --                        (recursive)\n",
       "│    │    └─ConvTranspose2d: 3-22                  [1, 64, 3024, 2016]       32,832\n",
       "│    │    └─DoubleConv: 3-23                       [1, 64, 3024, 2016]       110,848\n",
       "│    │    └─DoubleConv: 3-46                       --                        (recursive)\n",
       "│    └─OutConv: 2-21                               [1, 1, 3024, 2016]        65\n",
       "│    └─OutConv: 2-41                               --                        (recursive)\n",
       "│    │    └─Conv2d: 3-25                           [1, 1, 3024, 2016]        65\n",
       "│    └─DoubleConv: 2-23                            --                        (recursive)\n",
       "│    │    └─Sequential: 3-26                       --                        (recursive)\n",
       "│    └─Down: 2-24                                  [1, 128, 1512, 1008]      --\n",
       "│    └─Down: 2-25                                  --                        (recursive)\n",
       "│    │    └─Sequential: 3-27                       [1, 128, 1512, 1008]      --\n",
       "│    │    └─Sequential: 3-28                       --                        (recursive)\n",
       "│    └─Down: 2-26                                  [1, 256, 756, 504]        --\n",
       "│    └─Down: 2-27                                  --                        (recursive)\n",
       "│    │    └─Sequential: 3-29                       [1, 256, 756, 504]        --\n",
       "│    │    └─Sequential: 3-30                       --                        (recursive)\n",
       "│    └─Down: 2-28                                  [1, 512, 378, 252]        --\n",
       "│    └─Down: 2-29                                  --                        (recursive)\n",
       "│    │    └─Sequential: 3-31                       [1, 512, 378, 252]        --\n",
       "│    │    └─Sequential: 3-32                       --                        (recursive)\n",
       "│    └─Down: 2-30                                  [1, 1024, 189, 126]       --\n",
       "│    └─Down: 2-31                                  --                        (recursive)\n",
       "│    │    └─Sequential: 3-33                       [1, 1024, 189, 126]       --\n",
       "│    │    └─Sequential: 3-34                       --                        (recursive)\n",
       "│    └─Up: 2-32                                    [1, 512, 378, 252]        --\n",
       "│    └─Up: 2-33                                    --                        (recursive)\n",
       "│    │    └─ConvTranspose2d: 3-35                  [1, 512, 378, 252]        --\n",
       "│    │    └─DoubleConv: 3-36                       [1, 512, 378, 252]        --\n",
       "│    │    └─DoubleConv: 3-37                       --                        (recursive)\n",
       "│    └─Up: 2-34                                    [1, 256, 756, 504]        --\n",
       "│    └─Up: 2-35                                    --                        (recursive)\n",
       "│    │    └─ConvTranspose2d: 3-38                  [1, 256, 756, 504]        --\n",
       "│    │    └─DoubleConv: 3-39                       [1, 256, 756, 504]        --\n",
       "│    │    └─DoubleConv: 3-40                       --                        (recursive)\n",
       "│    └─Up: 2-36                                    [1, 128, 1512, 1008]      --\n",
       "│    └─Up: 2-37                                    --                        (recursive)\n",
       "│    │    └─ConvTranspose2d: 3-41                  [1, 128, 1512, 1008]      --\n",
       "│    │    └─DoubleConv: 3-42                       [1, 128, 1512, 1008]      --\n",
       "│    │    └─DoubleConv: 3-43                       --                        (recursive)\n",
       "│    └─Up: 2-38                                    [1, 64, 3024, 2016]       --\n",
       "│    └─Up: 2-39                                    --                        (recursive)\n",
       "│    │    └─ConvTranspose2d: 3-44                  [1, 64, 3024, 2016]       --\n",
       "│    │    └─DoubleConv: 3-45                       [1, 64, 3024, 2016]       --\n",
       "│    │    └─DoubleConv: 3-46                       --                        (recursive)\n",
       "│    └─OutConv: 2-40                               [1, 1, 3024, 2016]        --\n",
       "│    └─OutConv: 2-41                               --                        (recursive)\n",
       "│    │    └─Conv2d: 3-47                           [1, 1, 3024, 2016]        --\n",
       "====================================================================================================\n",
       "Total params: 168,380,419\n",
       "Trainable params: 168,380,419\n",
       "Non-trainable params: 0\n",
       "Total mult-adds (T): 5.07\n",
       "====================================================================================================\n",
       "Input size (MB): 24.39\n",
       "Forward/backward pass size (MB): 26750.93\n",
       "Params size (MB): 62.07\n",
       "Estimated Total Size (MB): 26837.39\n",
       "===================================================================================================="
      ]
     },
     "execution_count": 4,
     "metadata": {},
     "output_type": "execute_result"
    }
   ],
   "source": [
    "input_data = torch.randn(2, 1, *input_size).half()\n",
    "summary(model, input_data = input_data)"
   ]
  },
  {
   "cell_type": "code",
   "execution_count": 5,
   "metadata": {},
   "outputs": [],
   "source": [
    "def training_step(engine, batch):\n",
    "    model.train()\n",
    "    optimizer.zero_grad()\n",
    "    short, long, cam_model, _, _ = batch\n",
    "    short = short.half().to(idist.device())\n",
    "    long = long.half().to(idist.device())\n",
    "    output = model(short)\n",
    "    g_loss = loss(output, long)\n",
    "    g_loss.backward()\n",
    "    optimizer.step()\n",
    "    return {\"Loss_G\": g_loss.item()}"
   ]
  },
  {
   "cell_type": "code",
   "execution_count": 6,
   "metadata": {},
   "outputs": [
    {
     "name": "stderr",
     "output_type": "stream",
     "text": [
      "/home/pikachu/.local/lib/python3.10/site-packages/ignite/contrib/handlers/tqdm_logger.py:127: TqdmWarning: IProgress not found. Please update jupyter and ipywidgets. See https://ipywidgets.readthedocs.io/en/stable/user_install.html\n",
      "  from tqdm.autonotebook import tqdm\n"
     ]
    }
   ],
   "source": [
    "trainer = Engine(training_step)\n",
    "ProgressBar().attach(trainer, metric_names=['Loss_G'])"
   ]
  },
  {
   "cell_type": "code",
   "execution_count": 7,
   "metadata": {},
   "outputs": [
    {
     "name": "stderr",
     "output_type": "stream",
     "text": [
      "2023-06-02 08:21:24,125 ignite.distributed.launcher.Parallel INFO: Initialized processing group with backend: 'nccl'\n",
      "2023-06-02 08:21:24,126 ignite.distributed.launcher.Parallel INFO: - Run '<function training at 0x7fcbb5234a60>' in 1 processes\n",
      "Epoch [1/10]: [1/1760]   0%|           [00:00<?]/home/pikachu/.local/lib/python3.10/site-packages/ignite/contrib/handlers/base_logger.py:132: UserWarning: Provided metric name 'Loss_G' is missing in engine's state metrics: []\n",
      "  warnings.warn(\n",
      "Epoch [1/10]: [699/1760]  40%|███▉       [10:31<15:41]"
     ]
    }
   ],
   "source": [
    "def training(*args):\n",
    "    trainer.run(dataloader, max_epochs=10)\n",
    "\n",
    "with idist.Parallel(backend='nccl') as parallel:\n",
    "    parallel.run(training)"
   ]
  },
  {
   "cell_type": "code",
   "execution_count": null,
   "metadata": {},
   "outputs": [],
   "source": [
    "torch.save({\n",
    "            'epoch': 10,\n",
    "            'model_state_dict': model.state_dict(),\n",
    "            'optimizer_state_dict': optimizer.state_dict(),\n",
    "            'loss': loss,\n",
    "            }, 'model_seed_{}.pt'.format(torch.random.initial_seed()))"
   ]
  }
 ],
 "metadata": {
  "kernelspec": {
   "display_name": "Python 3",
   "language": "python",
   "name": "python3"
  },
  "language_info": {
   "codemirror_mode": {
    "name": "ipython",
    "version": 3
   },
   "file_extension": ".py",
   "mimetype": "text/x-python",
   "name": "python",
   "nbconvert_exporter": "python",
   "pygments_lexer": "ipython3",
   "version": "3.10.6"
  },
  "orig_nbformat": 4
 },
 "nbformat": 4,
 "nbformat_minor": 2
}
